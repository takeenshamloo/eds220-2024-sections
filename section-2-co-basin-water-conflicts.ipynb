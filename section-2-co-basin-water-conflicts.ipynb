{
 "cells": [
  {
   "cell_type": "markdown",
   "id": "94c9e9a5-12cb-4ef0-b8f2-d5d6f7147b83",
   "metadata": {},
   "source": [
    "# EDS 220: Section 2"
   ]
  },
  {
   "cell_type": "markdown",
   "id": "f9e87340-d0dc-421f-a9d5-a184900c2cc4",
   "metadata": {},
   "source": [
    "## Load Data"
   ]
  },
  {
   "cell_type": "code",
   "execution_count": 6,
   "id": "c711f865-4621-41a7-a54c-fefe58d524ca",
   "metadata": {
    "tags": []
   },
   "outputs": [],
   "source": [
    "import pandas as pd\n",
    "import numpy as np"
   ]
  },
  {
   "cell_type": "markdown",
   "id": "6370bb4f-8085-4245-9158-af206ffd72fe",
   "metadata": {},
   "source": [
    "## 1. Archive Exploration\n",
    "\n",
    "a. Look through the dataset’s description in the ScienceBase repository. Find the following information:\n",
    "\n",
    "i. Where was the data collected from??\n",
    "ii. During what time frame were the observations in the dataset collected?\n",
    "iii. What was the author’s perceived value of this dataset?\n",
    "\n",
    "b. In a markdown cell, use your answers to the previous questions to add a brief description of the dataset. Briefly discuss anything else that seems relevant to you. Include a citation, date of access, and a link to the archive.\n",
    "\n",
    "c. Take a look at the data’s metadata by clicking on the “View” icon of the Coded Events Colorado River Basin Water Conflict Table Metadata.xml file."
   ]
  },
  {
   "cell_type": "markdown",
   "id": "a0830f02-3455-4f80-96b9-072833add633",
   "metadata": {
    "tags": []
   },
   "source": [
    "#### Answers:\n",
    "\n",
    "i. Where was the data collected from??\n",
    "\n",
    "The data was collected from the Colorado River Basin, a critical water source in the southwestern U.S. and northern Mexico, supporting millions of people and ecosystems.\n",
    "\n",
    "ii. During what time frame were the observations in the dataset collected?\n",
    "\n",
    "The time frame of the observations can be found in the dataset's metadata from the USGS.\n",
    "\n",
    "iii. What was the author’s perceived value of this dataset?\n",
    "\n",
    "The author values the dataset for its role in documenting conflicts over water management, aiding policymakers and stakeholders in addressing challenges related to water allocation and conservation.\n",
    "\n",
    "b. This dataset provides information on conflicts and crises related to water resource management in the Colorado River Basin. This is a critical watershed to the southwestern United States and northern Mexico. The basin has supported Native American tribes for centuries. It's essential for over 40 million people and extensive agricultural areas. Policymakers can use this data to make informed decisions about water management in a region facing increased competition for resources.\n",
    "Source: U.S. Geological Survey (USGS) ScienceBase.\n",
    "\n",
    "c. The metadata for the dataset provides detailed information about the structure, data collection methods, time frame, and key variables. It is essential for understanding how to interpret the data and ensuring the reliability of analyses conducted using it."
   ]
  },
  {
   "cell_type": "code",
   "execution_count": 27,
   "id": "16275e89-a029-494c-aa7d-f94ff39bd85f",
   "metadata": {
    "tags": []
   },
   "outputs": [
    {
     "name": "stdout",
     "output_type": "stream",
     "text": [
      "Event\n",
      "Search Source\n",
      "Newspaper\n",
      "Article Title\n",
      "Duplicate\n",
      "Report Date\n",
      "Report Year\n",
      "Event Date\n",
      "Event Day\n",
      "Event Month\n",
      "Event Year\n",
      "Conflict Present\n",
      "Crisis Present\n",
      "Basin\n",
      "HUC6\n",
      "HUC2\n",
      "Place\n",
      "County\n",
      "County FIPS\n",
      "State\n",
      "State FIPS\n",
      "Urban or Rural\n",
      "Issue Type\n",
      "Event Summary\n",
      "Stakeholders\n",
      "Intensity Value\n",
      "Comments\n",
      "Related Observation Themes\n",
      "Article Text Search - water quality\n",
      "Article Text Search - invasive species\n",
      "Article Text Search - conservation\n",
      "Article Text Search - drought\n",
      "Article Text Search - flood\n",
      "Article Text Search - ground water depletion\n",
      "Article Text Search - depletion\n",
      "Article Text Search - infrastructure\n",
      "Article Text Search - fish passage\n",
      "Article Text Search - instream water rights\n",
      "Article Text Search - water rights\n",
      "Article Text Search - intergovernmental\n",
      "Article Text Search - water transfers\n",
      "Article Text Search - navigation\n",
      "Article Text Search - fish\n",
      "Article Text Search - invasive\n",
      "Article Text Search - diversion\n",
      "Article Text Search - water diversion\n",
      "Article Text Search - instream\n",
      "Article Text Search - aquatic\n"
     ]
    },
    {
     "data": {
      "text/html": [
       "<div>\n",
       "<style scoped>\n",
       "    .dataframe tbody tr th:only-of-type {\n",
       "        vertical-align: middle;\n",
       "    }\n",
       "\n",
       "    .dataframe tbody tr th {\n",
       "        vertical-align: top;\n",
       "    }\n",
       "\n",
       "    .dataframe thead th {\n",
       "        text-align: right;\n",
       "    }\n",
       "</style>\n",
       "<table border=\"1\" class=\"dataframe\">\n",
       "  <thead>\n",
       "    <tr style=\"text-align: right;\">\n",
       "      <th></th>\n",
       "      <th>Event</th>\n",
       "      <th>Search Source</th>\n",
       "      <th>Newspaper</th>\n",
       "      <th>Article Title</th>\n",
       "      <th>Duplicate</th>\n",
       "      <th>Report Date</th>\n",
       "      <th>Report Year</th>\n",
       "      <th>Event Date</th>\n",
       "      <th>Event Day</th>\n",
       "      <th>Event Month</th>\n",
       "      <th>...</th>\n",
       "      <th>Article Text Search - water rights</th>\n",
       "      <th>Article Text Search - intergovernmental</th>\n",
       "      <th>Article Text Search - water transfers</th>\n",
       "      <th>Article Text Search - navigation</th>\n",
       "      <th>Article Text Search - fish</th>\n",
       "      <th>Article Text Search - invasive</th>\n",
       "      <th>Article Text Search - diversion</th>\n",
       "      <th>Article Text Search - water diversion</th>\n",
       "      <th>Article Text Search - instream</th>\n",
       "      <th>Article Text Search - aquatic</th>\n",
       "    </tr>\n",
       "  </thead>\n",
       "  <tbody>\n",
       "    <tr>\n",
       "      <th>0</th>\n",
       "      <td>1</td>\n",
       "      <td>USGS1-50.docx</td>\n",
       "      <td>The Durango Herald (Colorado)</td>\n",
       "      <td>Tribes assert water rights on Colorado River B...</td>\n",
       "      <td>False</td>\n",
       "      <td>7-Apr-22</td>\n",
       "      <td>2022.0</td>\n",
       "      <td>NaN</td>\n",
       "      <td>NaN</td>\n",
       "      <td>4.0</td>\n",
       "      <td>...</td>\n",
       "      <td>17</td>\n",
       "      <td>0</td>\n",
       "      <td>0</td>\n",
       "      <td>0</td>\n",
       "      <td>0</td>\n",
       "      <td>0</td>\n",
       "      <td>0</td>\n",
       "      <td>0</td>\n",
       "      <td>0</td>\n",
       "      <td>0</td>\n",
       "    </tr>\n",
       "    <tr>\n",
       "      <th>1</th>\n",
       "      <td>2</td>\n",
       "      <td>USGS1-50.docx</td>\n",
       "      <td>Journal, The (Cortez, Dolores, Mancos, CO)</td>\n",
       "      <td>Native American tribes assert water rights on ...</td>\n",
       "      <td>False</td>\n",
       "      <td>7-Apr-22</td>\n",
       "      <td>2022.0</td>\n",
       "      <td>NaN</td>\n",
       "      <td>NaN</td>\n",
       "      <td>4.0</td>\n",
       "      <td>...</td>\n",
       "      <td>17</td>\n",
       "      <td>0</td>\n",
       "      <td>0</td>\n",
       "      <td>0</td>\n",
       "      <td>0</td>\n",
       "      <td>0</td>\n",
       "      <td>0</td>\n",
       "      <td>0</td>\n",
       "      <td>0</td>\n",
       "      <td>0</td>\n",
       "    </tr>\n",
       "    <tr>\n",
       "      <th>2</th>\n",
       "      <td>3</td>\n",
       "      <td>USGS1-50.docx</td>\n",
       "      <td>The Salt Lake Tribune</td>\n",
       "      <td>'Very positive change.' New Utah law will be a...</td>\n",
       "      <td>False</td>\n",
       "      <td>17-Mar-22</td>\n",
       "      <td>2022.0</td>\n",
       "      <td>NaN</td>\n",
       "      <td>NaN</td>\n",
       "      <td>3.0</td>\n",
       "      <td>...</td>\n",
       "      <td>12</td>\n",
       "      <td>0</td>\n",
       "      <td>0</td>\n",
       "      <td>0</td>\n",
       "      <td>1</td>\n",
       "      <td>0</td>\n",
       "      <td>0</td>\n",
       "      <td>0</td>\n",
       "      <td>12</td>\n",
       "      <td>1</td>\n",
       "    </tr>\n",
       "    <tr>\n",
       "      <th>3</th>\n",
       "      <td>4</td>\n",
       "      <td>USGS1-50.docx</td>\n",
       "      <td>Casa Grande Dispatch (AZ)</td>\n",
       "      <td>Legislation would let an Arizona tribe lease C...</td>\n",
       "      <td>False</td>\n",
       "      <td>11-Dec-21</td>\n",
       "      <td>2021.0</td>\n",
       "      <td>NaN</td>\n",
       "      <td>NaN</td>\n",
       "      <td>12.0</td>\n",
       "      <td>...</td>\n",
       "      <td>6</td>\n",
       "      <td>0</td>\n",
       "      <td>0</td>\n",
       "      <td>0</td>\n",
       "      <td>0</td>\n",
       "      <td>0</td>\n",
       "      <td>0</td>\n",
       "      <td>0</td>\n",
       "      <td>0</td>\n",
       "      <td>0</td>\n",
       "    </tr>\n",
       "    <tr>\n",
       "      <th>4</th>\n",
       "      <td>5</td>\n",
       "      <td>USGS1-50.docx</td>\n",
       "      <td>The Aspen Times (Colorado)</td>\n",
       "      <td>Historically excluded from Colorado River poli...</td>\n",
       "      <td>False</td>\n",
       "      <td>19-Dec-21</td>\n",
       "      <td>2021.0</td>\n",
       "      <td>NaN</td>\n",
       "      <td>NaN</td>\n",
       "      <td>11.0</td>\n",
       "      <td>...</td>\n",
       "      <td>18</td>\n",
       "      <td>0</td>\n",
       "      <td>0</td>\n",
       "      <td>0</td>\n",
       "      <td>0</td>\n",
       "      <td>0</td>\n",
       "      <td>0</td>\n",
       "      <td>0</td>\n",
       "      <td>0</td>\n",
       "      <td>0</td>\n",
       "    </tr>\n",
       "  </tbody>\n",
       "</table>\n",
       "<p>5 rows × 48 columns</p>\n",
       "</div>"
      ],
      "text/plain": [
       "   Event  Search Source                                   Newspaper  \\\n",
       "0      1  USGS1-50.docx               The Durango Herald (Colorado)   \n",
       "1      2  USGS1-50.docx  Journal, The (Cortez, Dolores, Mancos, CO)   \n",
       "2      3  USGS1-50.docx                       The Salt Lake Tribune   \n",
       "3      4  USGS1-50.docx                   Casa Grande Dispatch (AZ)   \n",
       "4      5  USGS1-50.docx                  The Aspen Times (Colorado)   \n",
       "\n",
       "                                       Article Title Duplicate Report Date  \\\n",
       "0  Tribes assert water rights on Colorado River B...     False    7-Apr-22   \n",
       "1  Native American tribes assert water rights on ...     False    7-Apr-22   \n",
       "2  'Very positive change.' New Utah law will be a...     False   17-Mar-22   \n",
       "3  Legislation would let an Arizona tribe lease C...     False   11-Dec-21   \n",
       "4  Historically excluded from Colorado River poli...     False   19-Dec-21   \n",
       "\n",
       "   Report Year Event Date  Event Day  Event Month  ...  \\\n",
       "0       2022.0        NaN        NaN          4.0  ...   \n",
       "1       2022.0        NaN        NaN          4.0  ...   \n",
       "2       2022.0        NaN        NaN          3.0  ...   \n",
       "3       2021.0        NaN        NaN         12.0  ...   \n",
       "4       2021.0        NaN        NaN         11.0  ...   \n",
       "\n",
       "   Article Text Search - water rights Article Text Search - intergovernmental  \\\n",
       "0                                  17                                       0   \n",
       "1                                  17                                       0   \n",
       "2                                  12                                       0   \n",
       "3                                   6                                       0   \n",
       "4                                  18                                       0   \n",
       "\n",
       "  Article Text Search - water transfers Article Text Search - navigation  \\\n",
       "0                                     0                                0   \n",
       "1                                     0                                0   \n",
       "2                                     0                                0   \n",
       "3                                     0                                0   \n",
       "4                                     0                                0   \n",
       "\n",
       "  Article Text Search - fish Article Text Search - invasive  \\\n",
       "0                          0                              0   \n",
       "1                          0                              0   \n",
       "2                          1                              0   \n",
       "3                          0                              0   \n",
       "4                          0                              0   \n",
       "\n",
       "  Article Text Search - diversion Article Text Search - water diversion  \\\n",
       "0                               0                                     0   \n",
       "1                               0                                     0   \n",
       "2                               0                                     0   \n",
       "3                               0                                     0   \n",
       "4                               0                                     0   \n",
       "\n",
       "   Article Text Search - instream Article Text Search - aquatic  \n",
       "0                               0                             0  \n",
       "1                               0                             0  \n",
       "2                              12                             1  \n",
       "3                               0                             0  \n",
       "4                               0                             0  \n",
       "\n",
       "[5 rows x 48 columns]"
      ]
     },
     "execution_count": 27,
     "metadata": {},
     "output_type": "execute_result"
    }
   ],
   "source": [
    "# Load the data from the data/ folder\n",
    "df = pd.read_csv('data/Colorado River Basin Water Conflict Table.csv')\n",
    "\n",
    "# Nicely display all col names\n",
    "for i in df.columns:\n",
    "    print(i)\n",
    "    \n",
    "# Display the first few rows to verify\n",
    "df.head()"
   ]
  },
  {
   "cell_type": "markdown",
   "id": "6a3c1746-bb44-4c77-83b3-2988e7dcb1c8",
   "metadata": {},
   "source": [
    "## 5. String accessor for pandas.Series"
   ]
  },
  {
   "cell_type": "code",
   "execution_count": 48,
   "id": "991177cd-7bb0-4c91-bb8d-e8c3de77dc25",
   "metadata": {
    "tags": []
   },
   "outputs": [
    {
     "data": {
      "text/html": [
       "<div>\n",
       "<style scoped>\n",
       "    .dataframe tbody tr th:only-of-type {\n",
       "        vertical-align: middle;\n",
       "    }\n",
       "\n",
       "    .dataframe tbody tr th {\n",
       "        vertical-align: top;\n",
       "    }\n",
       "\n",
       "    .dataframe thead th {\n",
       "        text-align: right;\n",
       "    }\n",
       "</style>\n",
       "<table border=\"1\" class=\"dataframe\">\n",
       "  <thead>\n",
       "    <tr style=\"text-align: right;\">\n",
       "      <th></th>\n",
       "      <th>0</th>\n",
       "      <th>1</th>\n",
       "    </tr>\n",
       "  </thead>\n",
       "  <tbody>\n",
       "    <tr>\n",
       "      <th>0</th>\n",
       "      <td>California</td>\n",
       "      <td>Nevada</td>\n",
       "    </tr>\n",
       "    <tr>\n",
       "      <th>1</th>\n",
       "      <td>Arizona</td>\n",
       "      <td>None</td>\n",
       "    </tr>\n",
       "    <tr>\n",
       "      <th>2</th>\n",
       "      <td>NaN</td>\n",
       "      <td>NaN</td>\n",
       "    </tr>\n",
       "    <tr>\n",
       "      <th>3</th>\n",
       "      <td>Nevada</td>\n",
       "      <td>Utah</td>\n",
       "    </tr>\n",
       "  </tbody>\n",
       "</table>\n",
       "</div>"
      ],
      "text/plain": [
       "            0        1\n",
       "0  California   Nevada\n",
       "1     Arizona     None\n",
       "2         NaN      NaN\n",
       "3      Nevada     Utah"
      ]
     },
     "execution_count": 48,
     "metadata": {},
     "output_type": "execute_result"
    }
   ],
   "source": [
    "# Example series\n",
    "s = pd.Series(['California; Nevada', 'Arizona', np.nan, 'Nevada; Utah'])\n",
    "s\n",
    "\n",
    "s.str.split(';', expand = True)"
   ]
  },
  {
   "cell_type": "markdown",
   "id": "189ee5ea-2c24-47f0-bb07-9978f85b9b96",
   "metadata": {},
   "source": [
    "## 6. Examine state codes\n",
    "\n",
    "#### Our goal today is to find which states are reported in the dataset as having a water conflicts.\n",
    "\n",
    "a. What are the unique values in the States column?"
   ]
  },
  {
   "cell_type": "code",
   "execution_count": 37,
   "id": "817207de-9f63-460c-94b7-595d61622273",
   "metadata": {
    "tags": []
   },
   "outputs": [
    {
     "name": "stdout",
     "output_type": "stream",
     "text": [
      "CO\n",
      "UT\n",
      "nan\n",
      "AZ\n",
      "OH; UT\n",
      "AZ; CO; NM; UT\n",
      "CA\n",
      "AZ; UT\n",
      "AZ; NV\n",
      "CO; UT; WY; NM\n",
      "AZ; CA\n",
      "UT; AZ\n",
      "CO; WY\n",
      "NV; AZ\n",
      "CO; AZ\n",
      "AZ; CA; CO; NV; NM; UT; WY\n",
      "AZ; CA; NV\n",
      "NV\n",
      "NM\n",
      "UT; CO; WY\n",
      "CA; NV; AZ\n",
      "AZ; NM\n",
      "WY; UT; CO\n",
      "TX\n"
     ]
    }
   ],
   "source": [
    "# This code will display all unique 'State' values in our data.\n",
    "for i in df['State'].unique():\n",
    "    print(i)"
   ]
  },
  {
   "cell_type": "markdown",
   "id": "6f8056d3-bfb4-4d53-baa3-925284a9d7c3",
   "metadata": {},
   "source": [
    "#### What could be a challenge to writing code to find which states are listed (without repetition)?\n",
    "\n",
    "Ans: I believe in the case of our assignment the structure of the 'State' column. There are potential intersects between state boundaries and water basins which causes duplicates in our data that we will have to split and clean up. Also NAN values need to be removed from the data as they are currently included."
   ]
  },
  {
   "cell_type": "markdown",
   "id": "0a0f3b48-3c79-4211-82dc-8b242c1d303e",
   "metadata": {
    "tags": []
   },
   "source": [
    "## 8. Brainstorm"
   ]
  },
  {
   "cell_type": "code",
   "execution_count": 55,
   "id": "54323379-d06e-439c-abdc-254ca8ffa27f",
   "metadata": {
    "tags": []
   },
   "outputs": [
    {
     "data": {
      "text/plain": [
       "array(['CO', 'UT', 'AZ', 'OH', ' UT', ' CO', ' NM', 'CA', ' NV', ' WY',\n",
       "       ' CA', ' AZ', 'NV', 'NM', 'WY', 'TX'], dtype=object)"
      ]
     },
     "execution_count": 55,
     "metadata": {},
     "output_type": "execute_result"
    }
   ],
   "source": [
    "df['State'].str.split(';', expand = True).stack().unique()"
   ]
  },
  {
   "cell_type": "markdown",
   "id": "8714e838-59c5-45e1-8494-59cbb7348dd4",
   "metadata": {
    "tags": []
   },
   "source": [
    "## 9. Find unique and find counter per article for each unique state"
   ]
  },
  {
   "cell_type": "code",
   "execution_count": 56,
   "id": "8ea769ec-24a1-44de-ab6c-976be82ed93b",
   "metadata": {
    "tags": []
   },
   "outputs": [
    {
     "data": {
      "text/plain": [
       "array(['CO', 'UT', 'AZ', 'OH', 'NM', 'CA', 'NV', 'WY', 'TX'], dtype=object)"
      ]
     },
     "execution_count": 56,
     "metadata": {},
     "output_type": "execute_result"
    }
   ],
   "source": [
    "df['State'].str.split(';', expand = True).stack().str.strip().unique()"
   ]
  },
  {
   "cell_type": "code",
   "execution_count": 66,
   "id": "b49968e8-7c48-4743-a742-e3786533397f",
   "metadata": {
    "tags": []
   },
   "outputs": [
    {
     "data": {
      "text/plain": [
       "AZ    87\n",
       "CO    45\n",
       "UT    40\n",
       "NV    19\n",
       "CA    16\n",
       "NM    13\n",
       "WY     8\n",
       "OH     1\n",
       "TX     1\n",
       "dtype: int64"
      ]
     },
     "execution_count": 66,
     "metadata": {},
     "output_type": "execute_result"
    }
   ],
   "source": [
    "df['State'].str.split(';', expand=True).stack().str.strip().value_counts()"
   ]
  }
 ],
 "metadata": {
  "kernelspec": {
   "display_name": "Anaconda 3 (Base)",
   "language": "python",
   "name": "base"
  },
  "language_info": {
   "codemirror_mode": {
    "name": "ipython",
    "version": 3
   },
   "file_extension": ".py",
   "mimetype": "text/x-python",
   "name": "python",
   "nbconvert_exporter": "python",
   "pygments_lexer": "ipython3",
   "version": "3.9.13"
  }
 },
 "nbformat": 4,
 "nbformat_minor": 5
}
