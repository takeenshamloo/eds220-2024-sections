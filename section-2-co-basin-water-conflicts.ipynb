{
 "cells": [
  {
   "cell_type": "markdown",
   "id": "9d6a3348-c1cd-405f-bc31-909c5c6333a2",
   "metadata": {},
   "source": [
    "# EDS 220: Section 2\n",
    "\n",
    "## 1. Archive Exploration\n",
    "\n",
    "a. Look through the dataset’s description in the ScienceBase repository. Find the following information:\n",
    "\n",
    "i. Where was the data collected from??\n",
    "ii. During what time frame were the observations in the dataset collected?\n",
    "iii. What was the author’s perceived value of this dataset?\n",
    "\n",
    "b. In a markdown cell, use your answers to the previous questions to add a brief description of the dataset. Briefly discuss anything else that seems relevant to you. Include a citation, date of access, and a link to the archive.\n",
    "\n",
    "c. Take a look at the data’s metadata by clicking on the “View” icon of the Coded Events Colorado River Basin Water Conflict Table Metadata.xml file."
   ]
  },
  {
   "cell_type": "markdown",
   "id": "a0830f02-3455-4f80-96b9-072833add633",
   "metadata": {
    "tags": []
   },
   "source": [
    "#### Answers:\n",
    "\n",
    "i. Where was the data collected from??\n",
    "\n",
    "The data was collected from the Colorado River Basin, a critical water source in the southwestern U.S. and northern Mexico, supporting millions of people and ecosystems.\n",
    "\n",
    "ii. During what time frame were the observations in the dataset collected?\n",
    "\n",
    "The time frame of the observations can be found in the dataset's metadata from the USGS.\n",
    "\n",
    "iii. What was the author’s perceived value of this dataset?\n",
    "\n",
    "The author values the dataset for its role in documenting conflicts over water management, aiding policymakers and stakeholders in addressing challenges related to water allocation and conservation.\n",
    "\n",
    "b. This dataset provides information on conflicts and crises related to water resource management in the Colorado River Basin. This is a critical watershed to the southwestern United States and northern Mexico. The basin has supported Native American tribes for centuries. It's essential for over 40 million people and extensive agricultural areas. Policymakers can use this data to make informed decisions about water management in a region facing increased competition for resources.\n",
    "Source: U.S. Geological Survey (USGS) ScienceBase.\n",
    "\n",
    "c. The metadata for the dataset provides detailed information about the structure, data collection methods, time frame, and key variables. It is essential for understanding how to interpret the data and ensuring the reliability of analyses conducted using it."
   ]
  },
  {
   "cell_type": "code",
   "execution_count": null,
   "id": "16275e89-a029-494c-aa7d-f94ff39bd85f",
   "metadata": {},
   "outputs": [],
   "source": []
  }
 ],
 "metadata": {
  "kernelspec": {
   "display_name": "Anaconda 3 (Base)",
   "language": "python",
   "name": "base"
  },
  "language_info": {
   "codemirror_mode": {
    "name": "ipython",
    "version": 3
   },
   "file_extension": ".py",
   "mimetype": "text/x-python",
   "name": "python",
   "nbconvert_exporter": "python",
   "pygments_lexer": "ipython3",
   "version": "3.9.13"
  }
 },
 "nbformat": 4,
 "nbformat_minor": 5
}
